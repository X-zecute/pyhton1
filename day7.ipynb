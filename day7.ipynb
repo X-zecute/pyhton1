{
 "cells": [
  {
   "cell_type": "code",
   "execution_count": 1,
   "id": "67ac2768",
   "metadata": {},
   "outputs": [
    {
     "ename": "SyntaxError",
     "evalue": "invalid syntax (2339691367.py, line 1)",
     "output_type": "error",
     "traceback": [
      "\u001b[1;36m  Input \u001b[1;32mIn [1]\u001b[1;36m\u001b[0m\n\u001b[1;33m    def divisiblenumbers(*numbers)\u001b[0m\n\u001b[1;37m                                  ^\u001b[0m\n\u001b[1;31mSyntaxError\u001b[0m\u001b[1;31m:\u001b[0m invalid syntax\n"
     ]
    }
   ],
   "source": []
  },
  {
   "cell_type": "code",
   "execution_count": 25,
   "id": "1018c137",
   "metadata": {},
   "outputs": [
    {
     "name": "stdout",
     "output_type": "stream",
     "text": [
      "1505,1540,1575,1610,1645,1680,1715,1750,1785,1820,1855,1890,1925,1960,1995,2030,2065,2100,2135,2170,2205,2240,2275,2310,2345,2380,2415,2450,2485,2520,2555,2590,2625,2660,2695\n"
     ]
    }
   ],
   "source": [
    "output = []\n",
    "for x in range(1500,2700):\n",
    "    if(x % 7 ==0) and (x %5 == 0):\n",
    "        output.append(str(x))\n",
    "print(','.join(output))"
   ]
  },
  {
   "cell_type": "code",
   "execution_count": 26,
   "id": "09b03263",
   "metadata": {},
   "outputs": [
    {
     "name": "stdout",
     "output_type": "stream",
     "text": [
      "numbers of even numbers: 9\n",
      "numbers of odd numbers: 5\n"
     ]
    }
   ],
   "source": [
    "numbers = (1,2,8,9,6,4,7,8,10,11,12,15,14,18)\n",
    "countodd = 0\n",
    "counteven = 0\n",
    "for x in numbers:\n",
    "    if not x % 2:\n",
    "        counteven += 1\n",
    "    else:\n",
    "        countodd += 1\n",
    "print('numbers of even numbers:', counteven)\n",
    "print('numbers of odd numbers:', countodd)"
   ]
  },
  {
   "cell_type": "code",
   "execution_count": 31,
   "id": "31f96e18",
   "metadata": {},
   "outputs": [
    {
     "name": "stdout",
     "output_type": "stream",
     "text": [
      "input a string:88008ifeanyi\n",
      "letters : 0\n",
      "digits : 5\n"
     ]
    }
   ],
   "source": [
    "string = input('input a string:')\n",
    "digits = 0\n",
    "letter = 0\n",
    "for x in string:\n",
    "    if x.isdigit():\n",
    "        digits +=1\n",
    "    else:\n",
    "        pass\n",
    "print('letters :', letter)\n",
    "print('digits :', digits)"
   ]
  },
  {
   "cell_type": "code",
   "execution_count": 21,
   "id": "35563eba",
   "metadata": {},
   "outputs": [
    {
     "name": "stdout",
     "output_type": "stream",
     "text": [
      "input your password:iFeanyi0#\n",
      "valid password\n"
     ]
    }
   ],
   "source": [
    "#NUMBER4\n",
    "import re\n",
    "password = input('input your password:')\n",
    "x = True\n",
    "while x:\n",
    "    if (len(password)<8 or len(password)>16):\n",
    "        break\n",
    "    elif not re.search('[a-z]',password):\n",
    "        break\n",
    "    elif not re.search('[A-Z]',password):\n",
    "        break\n",
    "    elif not re.search('[0-9]',password):\n",
    "        break\n",
    "    elif not re.search('[$#@]',password):\n",
    "        break\n",
    "    elif re.search('\\s',password):\n",
    "        break\n",
    "    else:\n",
    "        print('valid password')\n",
    "        x=False\n",
    "        break\n",
    "if x:\n",
    "    print('not a valid password')"
   ]
  },
  {
   "cell_type": "markdown",
   "id": "5d093337",
   "metadata": {},
   "source": [
    "# LAMBDA FUNCTION"
   ]
  },
  {
   "cell_type": "code",
   "execution_count": 23,
   "id": "ff7bea3a",
   "metadata": {},
   "outputs": [
    {
     "data": {
      "text/plain": [
       "102"
      ]
     },
     "execution_count": 23,
     "metadata": {},
     "output_type": "execute_result"
    }
   ],
   "source": [
    "(lambda x,y,z: x +y +z)(45,45,12)"
   ]
  },
  {
   "cell_type": "code",
   "execution_count": 24,
   "id": "92ea12e8",
   "metadata": {},
   "outputs": [
    {
     "name": "stdout",
     "output_type": "stream",
     "text": [
      "provide your passwordsandra76967\n"
     ]
    },
    {
     "data": {
      "text/plain": [
       "'valid password'"
      ]
     },
     "execution_count": 24,
     "metadata": {},
     "output_type": "execute_result"
    }
   ],
   "source": [
    "(lambda userpassword: 'valid password' if len(userpassword)>= 8 else 'invalid password')(input('provide your password'))"
   ]
  },
  {
   "cell_type": "code",
   "execution_count": 32,
   "id": "bc1c61d1",
   "metadata": {},
   "outputs": [
    {
     "name": "stdout",
     "output_type": "stream",
     "text": [
      "['BINGO', 'BATTY', 'ROCKY', 'BECKY', 'SPACKY']\n"
     ]
    }
   ],
   "source": [
    "dognames = ['bingo', 'batty', 'rocky', 'becky', 'spacky']\n",
    "updatedognames = list(map(lambda x: x.upper(), dognames))\n",
    "print(updatedognames)"
   ]
  },
  {
   "cell_type": "code",
   "execution_count": 34,
   "id": "761701db",
   "metadata": {},
   "outputs": [
    {
     "name": "stdout",
     "output_type": "stream",
     "text": [
      "[1.0, 1.4142135623730951, 2.8284271247461903, 3.0, 2.449489742783178, 2.0, 2.6457513110645907, 2.8284271247461903, 3.1622776601683795, 3.3166247903554, 3.4641016151377544, 3.872983346207417, 3.7416573867739413, 4.242640687119285]\n"
     ]
    }
   ],
   "source": [
    "import math \n",
    "unumbers = list(map(lambda x: math.sqrt(x), numbers))\n",
    "print(unumbers)"
   ]
  },
  {
   "cell_type": "code",
   "execution_count": 36,
   "id": "a1abde62",
   "metadata": {},
   "outputs": [
    {
     "name": "stdout",
     "output_type": "stream",
     "text": [
      "[1, 9, 7, 11, 15]\n"
     ]
    }
   ],
   "source": [
    "odd = list(filter(lambda x: x % 2 == 1, numbers))\n",
    "print(odd)"
   ]
  },
  {
   "cell_type": "code",
   "execution_count": null,
   "id": "0ab6c6d8",
   "metadata": {},
   "outputs": [],
   "source": []
  }
 ],
 "metadata": {
  "kernelspec": {
   "display_name": "Python 3 (ipykernel)",
   "language": "python",
   "name": "python3"
  },
  "language_info": {
   "codemirror_mode": {
    "name": "ipython",
    "version": 3
   },
   "file_extension": ".py",
   "mimetype": "text/x-python",
   "name": "python",
   "nbconvert_exporter": "python",
   "pygments_lexer": "ipython3",
   "version": "3.9.12"
  }
 },
 "nbformat": 4,
 "nbformat_minor": 5
}
