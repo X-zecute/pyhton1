{
 "cells": [
  {
   "cell_type": "code",
   "execution_count": 1,
   "id": "bd7ecdbd",
   "metadata": {},
   "outputs": [
    {
     "name": "stdout",
     "output_type": "stream",
     "text": [
      "12\n"
     ]
    }
   ],
   "source": [
    "num1 = int(12.65)\n",
    "print(num1)"
   ]
  },
  {
   "cell_type": "code",
   "execution_count": 6,
   "id": "c1cf7141",
   "metadata": {},
   "outputs": [],
   "source": [
    "num1 = float(45)\n",
    "num2 = float(85)\n",
    "num3 = float(90)"
   ]
  },
  {
   "cell_type": "code",
   "execution_count": 7,
   "id": "9064094d",
   "metadata": {},
   "outputs": [
    {
     "name": "stdout",
     "output_type": "stream",
     "text": [
      "45.0\n",
      "85.0\n",
      "90.0\n"
     ]
    }
   ],
   "source": [
    "print(str(num1))\n",
    "print(str(num2))\n",
    "print(str(num3))"
   ]
  },
  {
   "cell_type": "code",
   "execution_count": 8,
   "id": "2a27e336",
   "metadata": {},
   "outputs": [
    {
     "name": "stdout",
     "output_type": "stream",
     "text": [
      "45 80 90\n"
     ]
    }
   ],
   "source": [
    "num1 = int(45.36)\n",
    "num2 = int(80.25)\n",
    "num3 = int(90.36)\n",
    "print(num1,num2,num3)"
   ]
  },
  {
   "cell_type": "code",
   "execution_count": 9,
   "id": "eeffc004",
   "metadata": {},
   "outputs": [
    {
     "name": "stdout",
     "output_type": "stream",
     "text": [
      "45\n",
      "80\n",
      "90\n"
     ]
    }
   ],
   "source": [
    "print(str(num1))\n",
    "print(str(num2))\n",
    "print(str(num3)) "
   ]
  },
  {
   "cell_type": "code",
   "execution_count": 11,
   "id": "b10d7fb5",
   "metadata": {},
   "outputs": [
    {
     "name": "stdout",
     "output_type": "stream",
     "text": [
      "70 89 77\n"
     ]
    }
   ],
   "source": [
    "num1 = int(70)\n",
    "num2 = int(89.5)\n",
    "num3 = int(77.88)\n",
    "print(num1,num2,num3)"
   ]
  },
  {
   "cell_type": "code",
   "execution_count": 16,
   "id": "35a5dea7",
   "metadata": {},
   "outputs": [],
   "source": [
    "num1 = float(70)\n",
    "num2 = float(89)\n",
    "num3 = float(77)"
   ]
  },
  {
   "cell_type": "code",
   "execution_count": 12,
   "id": "f8d50575",
   "metadata": {},
   "outputs": [
    {
     "name": "stdout",
     "output_type": "stream",
     "text": [
      "please provide your nameifeanyi\n"
     ]
    }
   ],
   "source": [
    "name = input('please provide your name')"
   ]
  },
  {
   "cell_type": "code",
   "execution_count": 14,
   "id": "e1ce2169",
   "metadata": {},
   "outputs": [
    {
     "name": "stdout",
     "output_type": "stream",
     "text": [
      "provide your age: 45\n"
     ]
    }
   ],
   "source": [
    "age = int(input('provide your age: '))"
   ]
  },
  {
   "cell_type": "code",
   "execution_count": 17,
   "id": "b6b8b5f7",
   "metadata": {},
   "outputs": [
    {
     "name": "stdout",
     "output_type": "stream",
     "text": [
      "provide your age:45\n"
     ]
    }
   ],
   "source": [
    "age2 = float(input('provide your age:'))"
   ]
  },
  {
   "cell_type": "markdown",
   "id": "84b030f1",
   "metadata": {},
   "source": [
    "# INPUT FUNCTION"
   ]
  },
  {
   "cell_type": "markdown",
   "id": "075d6725",
   "metadata": {},
   "source": [
    "# OPERATORS"
   ]
  },
  {
   "cell_type": "markdown",
   "id": "2f28b498",
   "metadata": {},
   "source": [
    "# ARITHMETIC OPERATORS"
   ]
  },
  {
   "cell_type": "code",
   "execution_count": 18,
   "id": "aeab8928",
   "metadata": {},
   "outputs": [
    {
     "name": "stdout",
     "output_type": "stream",
     "text": [
      "provide the first number: 20\n",
      "provide the second number: 10\n",
      "20 + 10 = 30\n",
      "20 - 10 = 10\n",
      "20 * 10 = 200\n",
      "20 / 10 = 2.0\n",
      "20 % 10 = 0\n",
      "20 // 10 = 2\n",
      "20 ** 10 = 10240000000000\n"
     ]
    }
   ],
   "source": [
    "num1 = int(input('provide the first number: '))\n",
    "num2 = int(input('provide the second number: '))\n",
    "print(f'{num1} + {num2} = {num1 + num2}')\n",
    "print(f'{num1} - {num2} = {num1 - num2}')\n",
    "print(f'{num1} * {num2} = {num1 * num2}')\n",
    "print(f'{num1} / {num2} = {num1 / num2}')\n",
    "print(f'{num1} % {num2} = {num1 % num2}')\n",
    "print(f'{num1} // {num2} = {num1 // num2}')\n",
    "print(f'{num1} ** {num2} = {num1 ** num2}')"
   ]
  },
  {
   "cell_type": "markdown",
   "id": "d4b54230",
   "metadata": {},
   "source": [
    "# COMPARISM OPERATORS"
   ]
  },
  {
   "cell_type": "code",
   "execution_count": 28,
   "id": "982cde29",
   "metadata": {},
   "outputs": [
    {
     "name": "stdout",
     "output_type": "stream",
     "text": [
      "provide the first number: 67\n",
      "provide the second number: 7\n",
      "67 > 7 = True\n",
      "67 < 7 = False\n",
      "67 >= 7 = True\n",
      "67 <= 7 = False\n",
      "67 == 7 = False\n",
      "67 != 7 = True\n"
     ]
    }
   ],
   "source": [
    "num1 = int(input('provide the first number: '))\n",
    "num2 = int(input('provide the second number: '))\n",
    "print(f'{num1} > {num2} = {num1 > num2}')\n",
    "print(f'{num1} < {num2} = {num1 < num2}')\n",
    "print(f'{num1} >= {num2} = {num1 >= num2}')\n",
    "print(f'{num1} <= {num2} = {num1 <= num2}')\n",
    "print(f'{num1} == {num2} = {num1 == num2}')\n",
    "print(f'{num1} != {num2} = {num1 != num2}')"
   ]
  },
  {
   "cell_type": "markdown",
   "id": "c0caa910",
   "metadata": {},
   "source": [
    "# LOGICAL OPERATOR"
   ]
  },
  {
   "cell_type": "code",
   "execution_count": 29,
   "id": "7451d64a",
   "metadata": {},
   "outputs": [
    {
     "name": "stdout",
     "output_type": "stream",
     "text": [
      "provide the first number: 25\n",
      "provide the second number: 85\n",
      "25 > 85 and 25 != 85 = False\n",
      "25 > 85 and 25 != 85 = False\n"
     ]
    }
   ],
   "source": [
    "num1 = int(input('provide the first number: '))\n",
    "num2 = int(input('provide the second number: '))\n",
    "print(f'{num1} > {num2} and {num1} != {num2} = {num1 > num2 and num1 != num2}')\n",
    "print(f'{num1} > {num2} and {num1} != {num2} = {num1 > num2 and num1 != num2}')"
   ]
  },
  {
   "cell_type": "markdown",
   "id": "5f294ff0",
   "metadata": {},
   "source": [
    "# INDENTITY OPERATOR"
   ]
  },
  {
   "cell_type": "code",
   "execution_count": 30,
   "id": "3a538b2a",
   "metadata": {},
   "outputs": [
    {
     "name": "stdout",
     "output_type": "stream",
     "text": [
      "provide the first number:30\n",
      "provide the second number:30\n",
      "True\n",
      "False\n"
     ]
    }
   ],
   "source": [
    "num1 = int(input('provide the first number:'))\n",
    "num2 = int(input('provide the second number:'))\n",
    "print(num1 is num2)\n",
    "print(num1 is not num2)"
   ]
  },
  {
   "cell_type": "markdown",
   "id": "95251326",
   "metadata": {},
   "source": [
    "# MEMBERSHIP OPERATOR"
   ]
  },
  {
   "cell_type": "code",
   "execution_count": 32,
   "id": "ed230810",
   "metadata": {},
   "outputs": [
    {
     "name": "stdout",
     "output_type": "stream",
     "text": [
      "please provide a word: python\n",
      "False\n",
      "False\n"
     ]
    }
   ],
   "source": [
    "course = input('please provide a word: ')\n",
    "print('s' in course)\n",
    "print('t'not in course)"
   ]
  },
  {
   "cell_type": "code",
   "execution_count": 35,
   "id": "00f03b67",
   "metadata": {},
   "outputs": [
    {
     "name": "stdout",
     "output_type": "stream",
     "text": [
      "provide pen quantity: 450\n",
      "Job's profit on 450 pen is 22500\n"
     ]
    }
   ],
   "source": [
    "#JOB BOUGHT N PEN AT THE RATE OF 50 NAIRA EACH AND SOLD THE PEN AT THE RATE OF 100 EACH\n",
    "#CALCULATE JOB'S PROFIT \n",
    "quantity = int(input('provide pen quantity: '))\n",
    "cost = 50 * quantity\n",
    "selling = 100 * quantity\n",
    "profit = selling - cost\n",
    "print(f'Job\\'s profit on {quantity} pen is {profit}' )"
   ]
  },
  {
   "cell_type": "code",
   "execution_count": null,
   "id": "61c11e73",
   "metadata": {},
   "outputs": [],
   "source": []
  }
 ],
 "metadata": {
  "kernelspec": {
   "display_name": "Python 3 (ipykernel)",
   "language": "python",
   "name": "python3"
  },
  "language_info": {
   "codemirror_mode": {
    "name": "ipython",
    "version": 3
   },
   "file_extension": ".py",
   "mimetype": "text/x-python",
   "name": "python",
   "nbconvert_exporter": "python",
   "pygments_lexer": "ipython3",
   "version": "3.9.12"
  }
 },
 "nbformat": 4,
 "nbformat_minor": 5
}
