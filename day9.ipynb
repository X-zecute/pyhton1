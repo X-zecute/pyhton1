{
 "cells": [
  {
   "cell_type": "code",
   "execution_count": 2,
   "id": "ae1563e9",
   "metadata": {},
   "outputs": [
    {
     "name": "stdout",
     "output_type": "stream",
     "text": [
      "PLAYER ONE SCORE::6\n",
      "PLAYER TWO SCORE::8\n",
      "PLAYER TWO WINS\n",
      "\n",
      "\n",
      "PLAYER TWO IS THE OVERALL WINNER WITH A TOTAL POINT OF5\n",
      "PLAYER ONE SCORE::3\n",
      "PLAYER TWO SCORE::7\n",
      "PLAYER TWO WINS\n",
      "\n",
      "\n",
      "PLAYER TWO IS THE OVERALL WINNER WITH A TOTAL POINT OF10\n",
      "PLAYER ONE SCORE::5\n",
      "PLAYER TWO SCORE::5\n",
      "IT IS A DRAW\n",
      "\n",
      "\n",
      "PLAYER TWO IS THE OVERALL WINNER WITH A TOTAL POINT OF12\n",
      "PLAYER ONE SCORE::4\n",
      "PLAYER TWO SCORE::6\n",
      "PLAYER TWO WINS\n",
      "\n",
      "\n",
      "PLAYER TWO IS THE OVERALL WINNER WITH A TOTAL POINT OF17\n",
      "PLAYER ONE SCORE::7\n",
      "PLAYER TWO SCORE::3\n",
      "PLAYER ONE WINS\n",
      "\n",
      "\n",
      "PLAYER TWO IS THE OVERALL WINNER WITH A TOTAL POINT OF17\n",
      "PLAYER ONE SCORE::6\n",
      "PLAYER TWO SCORE::5\n",
      "PLAYER ONE WINS\n",
      "\n",
      "\n",
      "PLAYER TWO IS THE OVERALL WINNER WITH A TOTAL POINT OF17\n",
      "PLAYER ONE SCORE::5\n",
      "PLAYER TWO SCORE::11\n",
      "PLAYER TWO WINS\n",
      "\n",
      "\n",
      "PLAYER TWO IS THE OVERALL WINNER WITH A TOTAL POINT OF22\n",
      "PLAYER ONE SCORE::5\n",
      "PLAYER TWO SCORE::10\n",
      "PLAYER TWO WINS\n",
      "\n",
      "\n",
      "PLAYER TWO IS THE OVERALL WINNER WITH A TOTAL POINT OF27\n",
      "PLAYER ONE SCORE::8\n",
      "PLAYER TWO SCORE::8\n",
      "IT IS A DRAW\n",
      "\n",
      "\n",
      "PLAYER TWO IS THE OVERALL WINNER WITH A TOTAL POINT OF29\n",
      "PLAYER ONE SCORE::9\n",
      "PLAYER TWO SCORE::9\n",
      "IT IS A DRAW\n",
      "\n",
      "\n",
      "PLAYER TWO IS THE OVERALL WINNER WITH A TOTAL POINT OF31\n"
     ]
    }
   ],
   "source": [
    "def diceroller():\n",
    "    import random\n",
    "    playeronescore = 0\n",
    "    playertwoscore = 0\n",
    "    for i in range(1,11):\n",
    "        dice1 = random.randint(1,6) + random.randint(1,6)\n",
    "        dice2 = random.randint(1,6) + random.randint(1,6)\n",
    "        if dice1 > dice2:\n",
    "            print(f'PLAYER ONE SCORE::{dice1}')\n",
    "            print(f'PLAYER TWO SCORE::{dice2}')\n",
    "            print(f'PLAYER ONE WINS')\n",
    "            playeronescore += 5\n",
    "            print('\\n')\n",
    "        elif dice2 > dice1:\n",
    "            print(f'PLAYER ONE SCORE::{dice1}')\n",
    "            print(f'PLAYER TWO SCORE::{dice2}')\n",
    "            print(f'PLAYER TWO WINS')\n",
    "            playertwoscore += 5\n",
    "            print('\\n')\n",
    "        else:\n",
    "            print(f'PLAYER ONE SCORE::{dice1}')\n",
    "            print(f'PLAYER TWO SCORE::{dice2}')\n",
    "            print('IT IS A DRAW')\n",
    "            playeronescore += 2\n",
    "            playertwoscore += 2\n",
    "            print('\\n')\n",
    "        if playeronescore > playertwoscore:\n",
    "            print(f'PLAYER ONE IS THE OVERALL WINNER WITH A TOTAL POINT OF{playeronescore}')\n",
    "        elif playertwoscore > playeronescore:\n",
    "             print(f'PLAYER TWO IS THE OVERALL WINNER WITH A TOTAL POINT OF{playertwoscore}')\n",
    "        else:\n",
    "            print('IT IS A DRAW')\n",
    "diceroller()\n",
    "        "
   ]
  },
  {
   "cell_type": "markdown",
   "id": "bc74e954",
   "metadata": {},
   "source": [
    "# ERROR HANDLING"
   ]
  },
  {
   "cell_type": "code",
   "execution_count": 6,
   "id": "ace8eee4",
   "metadata": {},
   "outputs": [
    {
     "name": "stdout",
     "output_type": "stream",
     "text": [
      "Enter first number34\n",
      "Enter second number5\n",
      "pick an operation [ +, -, /, *]:/\n",
      "34 / 5 = 6.8\n"
     ]
    }
   ],
   "source": [
    "try:\n",
    "    num1 = int(input('Enter first number'))\n",
    "    num2 = int(input('Enter second number'))\n",
    "    option = input('pick an operation [ +, -, /, *]:')\n",
    "    if option == '+':\n",
    "        print(f'{num1} + {num2} = {num1 + num2}')\n",
    "    elif option == '-':\n",
    "        print(f'{num1} - {num2} = {num1 - num2}')\n",
    "    elif option == '/':\n",
    "        print(f'{num1} / {num2} = {num1 / num2}')\n",
    "    elif option == '*':\n",
    "        print(f'{num1} * {num2} = {num1 * num2}')\n",
    "except:\n",
    "        print('you have encountered one or more errors')\n",
    "              "
   ]
  },
  {
   "cell_type": "code",
   "execution_count": 7,
   "id": "e06c4df7",
   "metadata": {},
   "outputs": [
    {
     "name": "stdout",
     "output_type": "stream",
     "text": [
      "Enter first number35\n",
      "Enter second number80\n",
      "pick an operation [ +, -, /, *]:*\n",
      "35 * 80 = 2800\n",
      "3353077164822748841188787625923370388228499573110866243697217455549154293219967491214428267909397618495859205722808837890625\n",
      "end of program\n"
     ]
    }
   ],
   "source": [
    "try:\n",
    "    num1 = int(input('Enter first number'))\n",
    "    num2 = int(input('Enter second number'))\n",
    "    option = input('pick an operation [ +, -, /, *]:')\n",
    "    if option == '+':\n",
    "        print(f'{num1} + {num2} = {num1 + num2}')\n",
    "    elif option == '-':\n",
    "        print(f'{num1} - {num2} = {num1 - num2}')\n",
    "    elif option == '/':\n",
    "        print(f'{num1} / {num2} = {num1 / num2}')\n",
    "    elif option == '*':\n",
    "        print(f'{num1} * {num2} = {num1 * num2}')\n",
    "except Valueerror:\n",
    "        print('sorry only whole numbers are expected')\n",
    "except ZeroDivisionError:\n",
    "    print('sorry you cannot divide a number by zero')\n",
    "except:\n",
    "    print('you have encountered one or more errors')\n",
    "else:\n",
    "    print(num1 ** num2)\n",
    "finally:\n",
    "    print('end of program')"
   ]
  },
  {
   "cell_type": "code",
   "execution_count": null,
   "id": "0843c76d",
   "metadata": {},
   "outputs": [],
   "source": []
  }
 ],
 "metadata": {
  "kernelspec": {
   "display_name": "Python 3 (ipykernel)",
   "language": "python",
   "name": "python3"
  },
  "language_info": {
   "codemirror_mode": {
    "name": "ipython",
    "version": 3
   },
   "file_extension": ".py",
   "mimetype": "text/x-python",
   "name": "python",
   "nbconvert_exporter": "python",
   "pygments_lexer": "ipython3",
   "version": "3.9.12"
  }
 },
 "nbformat": 4,
 "nbformat_minor": 5
}
