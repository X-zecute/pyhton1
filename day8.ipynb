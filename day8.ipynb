{
 "cells": [
  {
   "cell_type": "code",
   "execution_count": 3,
   "id": "a0170f06",
   "metadata": {},
   "outputs": [
    {
     "data": {
      "text/plain": [
       "'Male'"
      ]
     },
     "execution_count": 3,
     "metadata": {},
     "output_type": "execute_result"
    }
   ],
   "source": [
    "class person:\n",
    "    attr1 = 'Male'\n",
    "    attr2 = 'Dark'\n",
    "obj = person()\n",
    "obj.attr1"
   ]
  },
  {
   "cell_type": "code",
   "execution_count": 3,
   "id": "c86a2f1a",
   "metadata": {},
   "outputs": [
    {
     "name": "stdout",
     "output_type": "stream",
     "text": [
      "i can talk\n"
     ]
    }
   ],
   "source": [
    "class person:\n",
    "    attr1 = 'Male'\n",
    "    attr2 = 'Dark'\n",
    "    def talk(self):\n",
    "        print('i can talk')\n",
    "obj = person()\n",
    "obj.talk()"
   ]
  },
  {
   "cell_type": "code",
   "execution_count": 16,
   "id": "f99a9680",
   "metadata": {},
   "outputs": [],
   "source": [
    " class carsimulation:\n",
    "    def __init__(self,brand,model,color,year,speed):\n",
    "        self.brand = brand\n",
    "        self.model = model\n",
    "        self.color = color\n",
    "        self.year = year \n",
    "        self.speed = speed\n",
    "    def start(self):\n",
    "        print(f'{self.brand} {self.model} has started')\n",
    "    def changegear(self):\n",
    "        gearoption = input('choose gear option:')\n",
    "        if gearoption == '1':\n",
    "            print('gear placed on 1')\n",
    "        elif gearoption == '2':\n",
    "            print('gear placed on 2')\n",
    "        elif gearoption =='3':\n",
    "            print('gear placed on 3')\n",
    "        elif gearoption =='4':\n",
    "            print('gear placed on 4')\n",
    "        elif gearoption =='5':\n",
    "            print('gear placed on 5') \n",
    "        elif gearoption =='R':\n",
    "            print('gear placed on Reverse')\n",
    "    def accelerate(self,option):\n",
    "        if option == 1:\n",
    "            print('nitro engaged')\n",
    "        elif option == 2:\n",
    "            print('invalid nitro option')\n",
    "    def stop(self):\n",
    "        print(f'{self.brand} {self.model} has stopped, GAME OVER!!!!!!')\n",
    "        \n",
    "car1 = carsimulation('audi','a6','black',2018,230)\n",
    "car2 = carsimulation('buggatti','cheron','blue',2022,300)\n",
    "            \n",
    "            \n",
    "        "
   ]
  },
  {
   "cell_type": "code",
   "execution_count": 13,
   "id": "abcc11e7",
   "metadata": {},
   "outputs": [
    {
     "name": "stdout",
     "output_type": "stream",
     "text": [
      "audi a6 has started\n",
      "None\n"
     ]
    }
   ],
   "source": [
    "print(car1.start())"
   ]
  },
  {
   "cell_type": "code",
   "execution_count": 14,
   "id": "498b4940",
   "metadata": {},
   "outputs": [
    {
     "name": "stdout",
     "output_type": "stream",
     "text": [
      "buggatti cheron has started\n",
      "None\n"
     ]
    }
   ],
   "source": [
    "print(car2.start())"
   ]
  },
  {
   "cell_type": "code",
   "execution_count": 17,
   "id": "70b59fc2",
   "metadata": {},
   "outputs": [
    {
     "name": "stdout",
     "output_type": "stream",
     "text": [
      "nitro engaged\n",
      "None\n"
     ]
    }
   ],
   "source": [
    "print(car2.accelerate(1))"
   ]
  },
  {
   "cell_type": "code",
   "execution_count": 18,
   "id": "854a392b",
   "metadata": {},
   "outputs": [
    {
     "name": "stdout",
     "output_type": "stream",
     "text": [
      "buggatti cheron has stopped, GAME OVER!!!!!!\n",
      "None\n"
     ]
    }
   ],
   "source": [
    "print(car2.stop())"
   ]
  },
  {
   "cell_type": "code",
   "execution_count": 19,
   "id": "4b1b9131",
   "metadata": {},
   "outputs": [],
   "source": [
    "class carsimulation2(carsimulation):\n",
    "    def openroof(self,option):\n",
    "        if option == 1:\n",
    "            print('roof opened')\n",
    "        elif option == 2:\n",
    "            print('roof closed')\n",
    "        else: \n",
    "            print('invalid roof option')\n",
    "car3 = carsimulation2('lamborgini','aventador','red',2022,700)"
   ]
  },
  {
   "cell_type": "code",
   "execution_count": 20,
   "id": "5d434b03",
   "metadata": {},
   "outputs": [
    {
     "name": "stdout",
     "output_type": "stream",
     "text": [
      "lamborgini aventador has started\n"
     ]
    }
   ],
   "source": [
    "car3.start()"
   ]
  },
  {
   "cell_type": "code",
   "execution_count": 10,
   "id": "5d619bba",
   "metadata": {},
   "outputs": [
    {
     "ename": "NameError",
     "evalue": "name 'car3' is not defined",
     "output_type": "error",
     "traceback": [
      "\u001b[1;31m---------------------------------------------------------------------------\u001b[0m",
      "\u001b[1;31mNameError\u001b[0m                                 Traceback (most recent call last)",
      "Input \u001b[1;32mIn [10]\u001b[0m, in \u001b[0;36m<cell line: 1>\u001b[1;34m()\u001b[0m\n\u001b[1;32m----> 1\u001b[0m \u001b[43mcar3\u001b[49m\u001b[38;5;241m.\u001b[39mopenroof(\u001b[38;5;241m1\u001b[39m)\n",
      "\u001b[1;31mNameError\u001b[0m: name 'car3' is not defined"
     ]
    }
   ],
   "source": [
    "car3.openroof(1)"
   ]
  },
  {
   "cell_type": "code",
   "execution_count": 25,
   "id": "52f91ebb",
   "metadata": {},
   "outputs": [
    {
     "name": "stdout",
     "output_type": "stream",
     "text": [
      "roof closed\n"
     ]
    }
   ],
   "source": [
    "car3.openroof(2)"
   ]
  },
  {
   "cell_type": "code",
   "execution_count": 12,
   "id": "17affdd3",
   "metadata": {},
   "outputs": [
    {
     "name": "stdout",
     "output_type": "stream",
     "text": [
      "LIST OPERATIONS\n",
      "accept\n",
      "display\n",
      "pricechecker\n",
      "mbi\n",
      "enter y as yes to perform operation and n as no to terminate operationy\n",
      "enter operation option:accept\n",
      "customer nameifeanyi ibekwe\n",
      "customer gendermale\n",
      "customer age16\n",
      "customer weight60\n",
      "customer height1.75\n",
      "customer countrynigeria\n",
      "customer continentafrica\n",
      "enter y as yes to perform and n as no to terminate operationn\n"
     ]
    }
   ],
   "source": [
    "class BODYMASSINDEXCHECKER:\n",
    "    def __init__(self,name,gender,age,weight,height,country,continent):\n",
    "        self.name = name\n",
    "        self.gander = gender\n",
    "        self.age = age\n",
    "        self.weight = weight\n",
    "        self.height = height\n",
    "        self.country = country\n",
    "        self.continent = continent\n",
    "    def accept(SELF,NAME,GENDER,AGE,WEIGHT,HEIGHT,COUNTRY,CONTINENT):\n",
    "        ob = BODYMASSINDEXCHECKER(NAME,GENDER,AGE,WEIGHT,HEIGHT,COUNTRY,CONTINENT)\n",
    "        customerlist.append(ob)\n",
    "    def display(self,ob):\n",
    "        print(f'''NAME:{ob.name}\n",
    "GENDER:{ob.gender}\n",
    "AGE:{ob.age}\n",
    "WEIGHT:{ob.weight}\n",
    "HEIGHT:{ob.height}\n",
    "COUNTRY:{ob.country}\n",
    "CONTINENT:{ob.continent}\n",
    "''')\n",
    "        def pricechecker(Self):\n",
    "            option = input('please provide your continent once again:')\n",
    "            if option == 'Africa':\n",
    "                print('your charge is $40')\n",
    "            elif option == 'Asia':\n",
    "                 print('your charge is $60')\n",
    "            elif option == 'Europe':\n",
    "                print('your charge is $50')\n",
    "            elif option == 'South America':\n",
    "                print('your charge is $60')\n",
    "            elif option == 'North America':\n",
    "                print('your charge is $55')\n",
    "        def bmi(self):\n",
    "            weight = float(input('please provide your weight in kg:'))\n",
    "            height = float(input('provide your height in meters'))\n",
    "            BMI = (weight/(height**2))\n",
    "            if BMI <18.5:\n",
    "                print('you are underweight kindly see a doctor')\n",
    "            elif BMI >=25 and BMI <=29.99:\n",
    "                print('you are overweight see the doctor for neccessary measures')\n",
    "            else:\n",
    "                print('you are obess kindly see the doctor immediately')\n",
    "customerlist = []\n",
    "obj = BODYMASSINDEXCHECKER('','',0,0,0,'','')\n",
    "print('LIST OPERATIONS\\naccept\\ndisplay\\npricechecker\\nmbi')\n",
    "operation = input('enter y as yes to perform operation and n as no to terminate operation')\n",
    "counter = 1\n",
    "while operation == 'y':\n",
    "    option = input('enter operation option:')\n",
    "    if option == 'accept':\n",
    "        obj.accept(input('customer name'),input('customer gender'),int(input('customer age')),float(input('customer weight')),float(input('customer height')),input('customer country'),input('customer continent'))\n",
    "        \n",
    "    elif option == 'display':\n",
    "        obj.pricechecker()\n",
    "    elif option == 'bmi':\n",
    "        obj.bmi()\n",
    "    operation = input('enter y as yes to perform and n as no to terminate operation')\n",
    "    counter = counter+1\n",
    "    "
   ]
  },
  {
   "cell_type": "code",
   "execution_count": null,
   "id": "5bee5890",
   "metadata": {},
   "outputs": [],
   "source": []
  }
 ],
 "metadata": {
  "kernelspec": {
   "display_name": "Python 3 (ipykernel)",
   "language": "python",
   "name": "python3"
  },
  "language_info": {
   "codemirror_mode": {
    "name": "ipython",
    "version": 3
   },
   "file_extension": ".py",
   "mimetype": "text/x-python",
   "name": "python",
   "nbconvert_exporter": "python",
   "pygments_lexer": "ipython3",
   "version": "3.9.12"
  }
 },
 "nbformat": 4,
 "nbformat_minor": 5
}
