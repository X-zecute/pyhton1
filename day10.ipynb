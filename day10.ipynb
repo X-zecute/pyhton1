{
 "cells": [
  {
   "cell_type": "code",
   "execution_count": 1,
   "id": "ab6855d5",
   "metadata": {},
   "outputs": [
    {
     "name": "stdout",
     "output_type": "stream",
     "text": [
      "please provide your name to check friends date of birth:ifeanyi ibekwe\n",
      "friend birthday is 20th january 1955\n"
     ]
    }
   ],
   "source": [
    "birthdaylist = {\n",
    "    'amaka joseph':'19th may 1969',    \n",
    "    'ifeanyi ibekwe':'20th january 1955',    \n",
    "    'joseph adam':'15th february 2002',    \n",
    "    'simon adama':'12th december 1999',  \n",
    "    'chika faith':'2nd june 1969',   \n",
    "    'darlington peter':'22nd february 1987',    \n",
    "    'chidera micheal':'14th august 1976',\n",
    "}\n",
    "name = input('please provide your name to check friends date of birth:')\n",
    "for key in birthdaylist:\n",
    "    if key == name:\n",
    "        print(f'friend birthday is {birthdaylist[name]}')\n",
    "        break\n",
    "else:\n",
    "    print('name not found')\n"
   ]
  },
  {
   "cell_type": "code",
   "execution_count": 3,
   "id": "9c1bf8a7",
   "metadata": {},
   "outputs": [
    {
     "name": "stdout",
     "output_type": "stream",
     "text": [
      "provide a number:45\n",
      "45 x 1 = 45\n",
      "45 x 2 = 90\n",
      "45 x 3 = 135\n",
      "45 x 4 = 180\n",
      "45 x 5 = 225\n",
      "45 x 6 = 270\n",
      "45 x 7 = 315\n",
      "45 x 8 = 360\n",
      "45 x 9 = 405\n",
      "45 x 10 = 450\n",
      "45 x 11 = 495\n",
      "45 x 12 = 540\n"
     ]
    }
   ],
   "source": [
    "number = int(input('provide a number:'))\n",
    "for i in range(1,13):\n",
    "    print(f'{number} x {i} = {number * i}')"
   ]
  },
  {
   "cell_type": "code",
   "execution_count": 5,
   "id": "47cf1dd3",
   "metadata": {},
   "outputs": [
    {
     "name": "stdout",
     "output_type": "stream",
     "text": [
      "['MAXYEAR', 'MINYEAR', '__all__', '__builtins__', '__cached__', '__doc__', '__file__', '__loader__', '__name__', '__package__', '__spec__', 'date', 'datetime', 'datetime_CAPI', 'sys', 'time', 'timedelta', 'timezone', 'tzinfo']\n"
     ]
    }
   ],
   "source": [
    "import datetime\n",
    "print(dir(datetime))"
   ]
  },
  {
   "cell_type": "code",
   "execution_count": 6,
   "id": "02c40e9f",
   "metadata": {},
   "outputs": [],
   "source": [
    "date1 = datetime.date(2022,5,25)"
   ]
  },
  {
   "cell_type": "code",
   "execution_count": 7,
   "id": "bc83cbb9",
   "metadata": {},
   "outputs": [
    {
     "data": {
      "text/plain": [
       "datetime.date(2022, 5, 25)"
      ]
     },
     "execution_count": 7,
     "metadata": {},
     "output_type": "execute_result"
    }
   ],
   "source": [
    "date1"
   ]
  },
  {
   "cell_type": "code",
   "execution_count": 8,
   "id": "01ad7143",
   "metadata": {},
   "outputs": [
    {
     "data": {
      "text/plain": [
       "datetime.date"
      ]
     },
     "execution_count": 8,
     "metadata": {},
     "output_type": "execute_result"
    }
   ],
   "source": [
    "type(date1)"
   ]
  },
  {
   "cell_type": "code",
   "execution_count": 10,
   "id": "f32aa9a1",
   "metadata": {},
   "outputs": [
    {
     "name": "stdout",
     "output_type": "stream",
     "text": [
      "2022\n",
      "5\n",
      "25\n",
      "2\n",
      "3\n"
     ]
    }
   ],
   "source": [
    "print(date1.year)\n",
    "print(date1.month)\n",
    "print(date1.day)\n",
    "print(date1.weekday())\n",
    "print(date1.isoweekday())"
   ]
  },
  {
   "cell_type": "code",
   "execution_count": 11,
   "id": "ab941670",
   "metadata": {},
   "outputs": [
    {
     "name": "stdout",
     "output_type": "stream",
     "text": [
      "2022-12-03\n"
     ]
    }
   ],
   "source": [
    "currentdate = datetime.date.today()\n",
    "print(currentdate)\n"
   ]
  },
  {
   "cell_type": "code",
   "execution_count": 12,
   "id": "66fbfc1e",
   "metadata": {},
   "outputs": [
    {
     "data": {
      "text/plain": [
       "'03 December, 2022'"
      ]
     },
     "execution_count": 12,
     "metadata": {},
     "output_type": "execute_result"
    }
   ],
   "source": [
    "#strftime: this is used for the modification of date and time\n",
    "currentdate.strftime('%d %B, %Y')"
   ]
  },
  {
   "cell_type": "code",
   "execution_count": 16,
   "id": "29f418b9",
   "metadata": {},
   "outputs": [
    {
     "name": "stdout",
     "output_type": "stream",
     "text": [
      "17:14:20.784591\n"
     ]
    }
   ],
   "source": [
    "currenttime = datetime.datetime.now().time()\n",
    "print(currenttime)"
   ]
  },
  {
   "cell_type": "code",
   "execution_count": 17,
   "id": "0dd74536",
   "metadata": {},
   "outputs": [
    {
     "data": {
      "text/plain": [
       "'05::14::20'"
      ]
     },
     "execution_count": 17,
     "metadata": {},
     "output_type": "execute_result"
    }
   ],
   "source": [
    "currenttime.strftime('%I::%M::%S')"
   ]
  },
  {
   "cell_type": "code",
   "execution_count": 19,
   "id": "a26f9237",
   "metadata": {},
   "outputs": [],
   "source": [
    "current_date_time = datetime.datetime.now()"
   ]
  },
  {
   "cell_type": "code",
   "execution_count": 20,
   "id": "93d00eeb",
   "metadata": {},
   "outputs": [
    {
     "data": {
      "text/plain": [
       "'Sat Dec  3 17:16:24 2022'"
      ]
     },
     "execution_count": 20,
     "metadata": {},
     "output_type": "execute_result"
    }
   ],
   "source": [
    "current_date_time.strftime('%c')"
   ]
  },
  {
   "cell_type": "code",
   "execution_count": 21,
   "id": "272f7586",
   "metadata": {},
   "outputs": [
    {
     "name": "stdout",
     "output_type": "stream",
     "text": [
      "enter your date in this format (mm/dd/yy)12/3/2022\n",
      "2022-12-03\n"
     ]
    }
   ],
   "source": [
    "#strptime: this is used to convert an input date to datetime format\n",
    "date2 = input('enter your date in this format (mm/dd/yy)')\n",
    "condate = datetime.datetime.strptime(date2,'%m/%d/%Y').date()\n",
    "print(condate)"
   ]
  },
  {
   "cell_type": "code",
   "execution_count": 22,
   "id": "892ad76f",
   "metadata": {},
   "outputs": [
    {
     "data": {
      "text/plain": [
       "datetime.timedelta(days=192)"
      ]
     },
     "execution_count": 22,
     "metadata": {},
     "output_type": "execute_result"
    }
   ],
   "source": [
    "currentdate - date1"
   ]
  },
  {
   "cell_type": "code",
   "execution_count": 23,
   "id": "04e93376",
   "metadata": {},
   "outputs": [
    {
     "data": {
      "text/plain": [
       "datetime.datetime(2022, 12, 3, 17, 16, 24, 910435)"
      ]
     },
     "execution_count": 23,
     "metadata": {},
     "output_type": "execute_result"
    }
   ],
   "source": [
    "current_date_time + datetime.timedelta(microseconds = 20000)"
   ]
  },
  {
   "cell_type": "code",
   "execution_count": 32,
   "id": "c282c6ed",
   "metadata": {},
   "outputs": [
    {
     "name": "stdout",
     "output_type": "stream",
     "text": [
      "please provide your nameade\n",
      "enter your date in this format (dd/mm/yy):20/1/2024\n",
      "dear ade, you have 59  weeks and 0 days until your appointment\n"
     ]
    }
   ],
   "source": [
    "name = input('please provide your name')\n",
    "strappdate = input('enter your date in this format (dd/mm/yy):')\n",
    "appdate = datetime.datetime.strptime(strappdate,'%d/%m/%Y').date()\n",
    "currentdate = datetime.date.today()\n",
    "diff = appdate - currentdate\n",
    "trnweeks = diff.days // 7\n",
    "trndays = diff.days % 7\n",
    "print(f'dear {name}, you have {trnweeks}  weeks and {trndays} days until your appointment')"
   ]
  },
  {
   "cell_type": "code",
   "execution_count": null,
   "id": "af5c96a4",
   "metadata": {},
   "outputs": [],
   "source": []
  }
 ],
 "metadata": {
  "kernelspec": {
   "display_name": "Python 3 (ipykernel)",
   "language": "python",
   "name": "python3"
  },
  "language_info": {
   "codemirror_mode": {
    "name": "ipython",
    "version": 3
   },
   "file_extension": ".py",
   "mimetype": "text/x-python",
   "name": "python",
   "nbconvert_exporter": "python",
   "pygments_lexer": "ipython3",
   "version": "3.9.12"
  }
 },
 "nbformat": 4,
 "nbformat_minor": 5
}
