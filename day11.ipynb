{
 "cells": [
  {
   "cell_type": "code",
   "execution_count": 3,
   "id": "5740b993",
   "metadata": {},
   "outputs": [
    {
     "name": "stdout",
     "output_type": "stream",
     "text": [
      "a data structure that stores value of same data type is known as:Array\n",
      "which type of loop is not recognized by python:Do-while loop\n",
      "how many arithmetic operations do we have in python:7\n",
      "element of programming are divided into how many parts:5\n",
      "in class and object which keyword is needed in order to have access to it's attributes and methods:self\n",
      "your score is 25 in 70 seconds\n"
     ]
    }
   ],
   "source": [
    "import datetime\n",
    "answer = {\n",
    "    'q1':['Set','List','Array','Dictionary'],\n",
    "    'q2':['For loop','While loop','Do-while loop'],\n",
    "    'q3':[5,7,4,8],\n",
    "    'q4':[2,3,8,5],\n",
    "    'q5':['self','constructor','__init__']\n",
    "}\n",
    "score = 0\n",
    "start = datetime.datetime.now()\n",
    "question1 = input('a data structure that stores value of same data type is known as:')\n",
    "if question1 == answer['q1'][2]:\n",
    "    score += 5\n",
    "else:\n",
    "    score += 0\n",
    "question2 = input('which type of loop is not recognized by python:')\n",
    "if question2 == answer['q2'][2]:\n",
    "    score += 5\n",
    "else:\n",
    "    score += 0\n",
    "question3 = int(input('how many arithmetic operations do we have in python:'))\n",
    "if question3 == answer['q3'][1]:\n",
    "    score += 5\n",
    "else:\n",
    "    score += 0\n",
    "question4 = int(input('element of programming are divided into how many parts:'))\n",
    "if question4 == answer['q4'][3]:\n",
    "    score += 5\n",
    "else:\n",
    "    score += 0\n",
    "question5 = input('in class and object which keyword is needed in order to have access to it\\'s attributes and methods:')\n",
    "if question5 == answer['q5'][0]:\n",
    "    score += 5\n",
    "else:\n",
    "    score += 0\n",
    "stop = datetime.datetime.now()\n",
    "diff = stop - start\n",
    "print(f'your score is {score} in {diff.seconds} seconds')"
   ]
  },
  {
   "cell_type": "markdown",
   "id": "9196fde7",
   "metadata": {},
   "source": [
    "# file input and output"
   ]
  },
  {
   "cell_type": "code",
   "execution_count": 4,
   "id": "5b47f22e",
   "metadata": {},
   "outputs": [],
   "source": [
    "#w, r, a, r+"
   ]
  },
  {
   "cell_type": "code",
   "execution_count": 5,
   "id": "8f61868a",
   "metadata": {},
   "outputs": [],
   "source": [
    "file = open('demo.pdf','w')\n",
    "file.write('''i went to school today without my bag and my bag fell on the floor it was shattered\n",
    "into pieces and i\\'m devastated\n",
    "''')\n",
    "file.close()"
   ]
  },
  {
   "cell_type": "code",
   "execution_count": 6,
   "id": "71d9a588",
   "metadata": {},
   "outputs": [
    {
     "name": "stdout",
     "output_type": "stream",
     "text": [
      "i went to school today without my bag and my bag fell on the floor it was shattered\n",
      "into pieces and i'm devastated\n",
      "\n"
     ]
    }
   ],
   "source": [
    "file = open('demo.pdf','r')\n",
    "print(file.read())\n",
    "file.close()"
   ]
  },
  {
   "cell_type": "code",
   "execution_count": 7,
   "id": "52095eea",
   "metadata": {},
   "outputs": [],
   "source": [
    "file = open('demo.txt','a')\n",
    "file.write('\\npython is fun')\n",
    "file.close()"
   ]
  },
  {
   "cell_type": "code",
   "execution_count": 9,
   "id": "02287096",
   "metadata": {},
   "outputs": [
    {
     "name": "stdout",
     "output_type": "stream",
     "text": [
      "\n",
      "python is fun\n",
      "python is great\n"
     ]
    }
   ],
   "source": [
    "file = open('demo.txt','r+')\n",
    "print(file.read())\n",
    "file.write('\\npython is great')\n",
    "file.close()"
   ]
  },
  {
   "cell_type": "code",
   "execution_count": 13,
   "id": "ac0dd4a6",
   "metadata": {},
   "outputs": [
    {
     "name": "stdout",
     "output_type": "stream",
     "text": [
      "numbers of words which length is ranging from 1 - 5 is 324\n",
      "numbers of words which length is ranging from 6 - 10 is 176\n",
      "numbers of words which length is ranging from 11 - 20 is 11\n",
      "numbers of words which length is ranging from 20  is 1\n"
     ]
    }
   ],
   "source": [
    "try:\n",
    "    file = open('demo.doc','r')\n",
    "    content = file.read()\n",
    "    splitcontent = content.split()\n",
    "except FileNotFoundError:\n",
    "    print('file does not exist')\n",
    "else:\n",
    "    one_to_five = 0\n",
    "    six_to_ten = 0\n",
    "    eleven_to_twenty = 0\n",
    "    others = 0\n",
    "    for word in splitcontent:\n",
    "        if len(word) >= 1 and len(word) <= 5:\n",
    "            one_to_five += 1\n",
    "        elif len(word) >= 6 and len(word) <= 10:\n",
    "            six_to_ten += 1\n",
    "        elif len(word) >= 11 and len(word) <= 20:\n",
    "            eleven_to_twenty += 1\n",
    "        else:\n",
    "            others += 1\n",
    "finally:\n",
    "    print(f'numbers of words which length is ranging from 1 - 5 is {one_to_five}')\n",
    "    print(f'numbers of words which length is ranging from 6 - 10 is {six_to_ten}')\n",
    "    print(f'numbers of words which length is ranging from 11 - 20 is {eleven_to_twenty}')\n",
    "    print(f'numbers of words which length is ranging from 20  is {others}')"
   ]
  },
  {
   "cell_type": "code",
   "execution_count": null,
   "id": "b68238dd",
   "metadata": {},
   "outputs": [],
   "source": []
  }
 ],
 "metadata": {
  "kernelspec": {
   "display_name": "Python 3 (ipykernel)",
   "language": "python",
   "name": "python3"
  },
  "language_info": {
   "codemirror_mode": {
    "name": "ipython",
    "version": 3
   },
   "file_extension": ".py",
   "mimetype": "text/x-python",
   "name": "python",
   "nbconvert_exporter": "python",
   "pygments_lexer": "ipython3",
   "version": "3.9.12"
  }
 },
 "nbformat": 4,
 "nbformat_minor": 5
}
