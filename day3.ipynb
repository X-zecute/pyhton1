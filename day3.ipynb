{
 "cells": [
  {
   "cell_type": "code",
   "execution_count": null,
   "id": "61d26db3",
   "metadata": {},
   "outputs": [],
   "source": [
    "# Tuple\n",
    "###Tuple is unchangeable\n",
    "##Tuple must be ordered \n",
    "#We use the index location to access any value from the tuple\n",
    "#We donate tuple with ()"
   ]
  },
  {
   "cell_type": "code",
   "execution_count": 5,
   "id": "65f60391",
   "metadata": {},
   "outputs": [
    {
     "name": "stdout",
     "output_type": "stream",
     "text": [
      "<class 'tuple'>\n"
     ]
    }
   ],
   "source": [
    "numbers = (8,45,7,9,8,20,21,25,36,8,45,80,52)\n",
    "print(type(numbers))"
   ]
  },
  {
   "cell_type": "code",
   "execution_count": 6,
   "id": "4f5d1c1b",
   "metadata": {},
   "outputs": [
    {
     "name": "stdout",
     "output_type": "stream",
     "text": [
      "13\n"
     ]
    }
   ],
   "source": [
    "print(len(numbers))"
   ]
  },
  {
   "cell_type": "code",
   "execution_count": 4,
   "id": "282ca588",
   "metadata": {},
   "outputs": [
    {
     "name": "stdout",
     "output_type": "stream",
     "text": [
      "8\n"
     ]
    }
   ],
   "source": [
    "print(numbers[0])#ACCESSING THE FIRST VALUE OF OUR TUPLE USING IT'S INDEX LOCATION"
   ]
  },
  {
   "cell_type": "code",
   "execution_count": 7,
   "id": "17a4f043",
   "metadata": {},
   "outputs": [
    {
     "name": "stdout",
     "output_type": "stream",
     "text": [
      "21\n"
     ]
    }
   ],
   "source": [
    "print(numbers[6])#ACCESSING THE VALUE ON THE SIXTH LOCATION OF OUR TUPLE USING IT'S INDEX LOCATION"
   ]
  },
  {
   "cell_type": "code",
   "execution_count": 8,
   "id": "b0ae363d",
   "metadata": {},
   "outputs": [
    {
     "name": "stdout",
     "output_type": "stream",
     "text": [
      "(9, 8, 20, 21, 25)\n"
     ]
    }
   ],
   "source": [
    "print(numbers[3:8])#ACCESSING RANGE OF VALUES OF OUR TUPLE USING THEIR INDEX LOCATION"
   ]
  },
  {
   "cell_type": "code",
   "execution_count": 9,
   "id": "77b391dc",
   "metadata": {},
   "outputs": [
    {
     "name": "stdout",
     "output_type": "stream",
     "text": [
      "52\n"
     ]
    }
   ],
   "source": [
    "print(numbers[-1])#ACCESSING THE LAST VALUE OF OUR TUPLE USING IT'S INDEX LOCATION"
   ]
  },
  {
   "cell_type": "code",
   "execution_count": 10,
   "id": "b9f95bb5",
   "metadata": {},
   "outputs": [
    {
     "name": "stdout",
     "output_type": "stream",
     "text": [
      "3\n"
     ]
    }
   ],
   "source": [
    "print(numbers.count(8))#RETRIEVING THE FREQUENCY RATE OF A VALUE"
   ]
  },
  {
   "cell_type": "code",
   "execution_count": 11,
   "id": "77868db2",
   "metadata": {},
   "outputs": [
    {
     "name": "stdout",
     "output_type": "stream",
     "text": [
      "11\n"
     ]
    }
   ],
   "source": [
    "print(numbers.index(80))#CHECKING THE INDEX LOCATION OF A VALUE"
   ]
  },
  {
   "cell_type": "code",
   "execution_count": 12,
   "id": "0c6e2998",
   "metadata": {},
   "outputs": [
    {
     "name": "stdout",
     "output_type": "stream",
     "text": [
      "False\n"
     ]
    }
   ],
   "source": [
    "print(50 in numbers)#CHECKING IF A VALUE EXIST IN OUR ITERABLE OBJECT"
   ]
  },
  {
   "cell_type": "markdown",
   "id": "9c23b1a9",
   "metadata": {},
   "source": [
    "# LIST\n",
    "### LIST IS CHANGEABLE\n",
    "### LIST CAN BE ORDERED OR UNORDERED\n",
    "### WE USE THE INDEX LOCATION TO ACCESS ANY VALUE FROM THE LIST\n",
    "### WE DENOTE LIST WITH  [ ]"
   ]
  },
  {
   "cell_type": "code",
   "execution_count": 13,
   "id": "40b9e21c",
   "metadata": {},
   "outputs": [],
   "source": [
    "fruits = ['Cherry','Lemon','Banana','Grape','Cashew']"
   ]
  },
  {
   "cell_type": "code",
   "execution_count": 14,
   "id": "305e9081",
   "metadata": {},
   "outputs": [
    {
     "name": "stdout",
     "output_type": "stream",
     "text": [
      "['Cherry', 'Lemon', 'Banana', 'Grape', 'Cashew', 'pear']\n"
     ]
    }
   ],
   "source": [
    "fruits.append('pear')#Append will add the specified value to the end of the list\n",
    "print(fruits)"
   ]
  },
  {
   "cell_type": "code",
   "execution_count": 15,
   "id": "5c2e58f8",
   "metadata": {},
   "outputs": [
    {
     "name": "stdout",
     "output_type": "stream",
     "text": [
      "['Cherry', 'Lemon', 'Banana', 'Grape', 'Cashew', 'pear', 'Apple', 'Grape', 'Melon', 'Grape', 'Coconut']\n"
     ]
    }
   ],
   "source": [
    "new_list = ['Apple','Grape','Melon','Grape','Coconut']\n",
    "fruits.extend(new_list)#Extend will move all the values from one list or tuple to another list\n",
    "print(fruits)"
   ]
  },
  {
   "cell_type": "code",
   "execution_count": 16,
   "id": "83882043",
   "metadata": {},
   "outputs": [
    {
     "name": "stdout",
     "output_type": "stream",
     "text": [
      "['Cherry', 'Lemon', 'Banana', 'Grape', 'Pawpaw', 'Cashew', 'pear', 'Apple', 'Grape', 'Melon', 'Grape', 'Coconut']\n"
     ]
    }
   ],
   "source": [
    "fruits.insert(4,'Pawpaw')#insert will add the value at the specified location\n",
    "print(fruits)"
   ]
  },
  {
   "cell_type": "code",
   "execution_count": 17,
   "id": "a70dec59",
   "metadata": {},
   "outputs": [
    {
     "name": "stdout",
     "output_type": "stream",
     "text": [
      "['Cherry', 'Lemon', 'Banana', 'Grape', 'Pawpaw', 'pear', 'Apple', 'Grape', 'Melon', 'Grape', 'Coconut']\n"
     ]
    }
   ],
   "source": [
    "fruits.pop(5)#Pop will remove the value on the specified location\n",
    "print(fruits)"
   ]
  },
  {
   "cell_type": "code",
   "execution_count": 19,
   "id": "4e82686e",
   "metadata": {},
   "outputs": [
    {
     "name": "stdout",
     "output_type": "stream",
     "text": [
      "['Cherry', 'Lemon', 'Banana', 'Pawpaw', 'pear', 'Apple', 'Grape', 'Melon', 'Grape', 'Coconut']\n"
     ]
    }
   ],
   "source": [
    "fruits.remove('Grape')#Remove will drop the value you specified\n",
    "print(fruits)"
   ]
  },
  {
   "cell_type": "code",
   "execution_count": 20,
   "id": "04e8094b",
   "metadata": {},
   "outputs": [
    {
     "name": "stdout",
     "output_type": "stream",
     "text": [
      "['Apple', 'Banana', 'Cherry', 'Coconut', 'Grape', 'Grape', 'Lemon', 'Melon', 'Pawpaw', 'pear']\n"
     ]
    }
   ],
   "source": [
    "fruits.sort()#Sort will rearrange the values in ascending order\n",
    "print(fruits)"
   ]
  },
  {
   "cell_type": "code",
   "execution_count": 21,
   "id": "5ff3f4c0",
   "metadata": {},
   "outputs": [
    {
     "name": "stdout",
     "output_type": "stream",
     "text": [
      "['pear', 'Pawpaw', 'Melon', 'Lemon', 'Grape', 'Grape', 'Coconut', 'Cherry', 'Banana', 'Apple']\n"
     ]
    }
   ],
   "source": [
    "fruits.reverse()#Reverse will rearrange the values in descending order\n",
    "print(fruits)"
   ]
  },
  {
   "cell_type": "code",
   "execution_count": 24,
   "id": "80ac4197",
   "metadata": {},
   "outputs": [
    {
     "name": "stdout",
     "output_type": "stream",
     "text": [
      "['pear', 'Pawpaw', 'Melon', 'Lemon', 'Grape', 'Grape', 'Coconut', 'Cherry', 'Banana', 'Apple']\n"
     ]
    }
   ],
   "source": [
    "copied_list = fruits.copy()\n",
    "print(copied_list)"
   ]
  },
  {
   "cell_type": "code",
   "execution_count": 26,
   "id": "87ddaf13",
   "metadata": {},
   "outputs": [
    {
     "name": "stdout",
     "output_type": "stream",
     "text": [
      "[]\n"
     ]
    }
   ],
   "source": [
    "copied_list.clear()#clear will remove all the values in the specified list\n",
    "print(copied_list)"
   ]
  },
  {
   "cell_type": "code",
   "execution_count": 29,
   "id": "752fb8a5",
   "metadata": {},
   "outputs": [
    {
     "ename": "NameError",
     "evalue": "name 'copied_list' is not defined",
     "output_type": "error",
     "traceback": [
      "\u001b[1;31m---------------------------------------------------------------------------\u001b[0m",
      "\u001b[1;31mNameError\u001b[0m                                 Traceback (most recent call last)",
      "Input \u001b[1;32mIn [29]\u001b[0m, in \u001b[0;36m<cell line: 2>\u001b[1;34m()\u001b[0m\n\u001b[0;32m      1\u001b[0m \u001b[38;5;28;01mdel\u001b[39;00m(copied_list)\n\u001b[1;32m----> 2\u001b[0m \u001b[38;5;28mprint\u001b[39m(\u001b[43mcopied_list\u001b[49m)\n",
      "\u001b[1;31mNameError\u001b[0m: name 'copied_list' is not defined"
     ]
    }
   ],
   "source": [
    "del(copied_list)\n",
    "print(copied_list)"
   ]
  },
  {
   "cell_type": "markdown",
   "id": "5053a2b0",
   "metadata": {},
   "source": [
    "# DICTIONARY\n",
    "### DICTIONARY IS CHANGEABLE\n",
    "### DICTIONARY CAN BE ORDERED OR UNORDERED\n",
    "### WE USE THE KEY TO ACCESS ANY VALUE FROM THE DICTIONARY \n",
    "### WE DENOTE DICTIONARY WITH {}"
   ]
  },
  {
   "cell_type": "code",
   "execution_count": 31,
   "id": "68c50b71",
   "metadata": {},
   "outputs": [
    {
     "name": "stdout",
     "output_type": "stream",
     "text": [
      "50\n"
     ]
    }
   ],
   "source": [
    "records = {\n",
    "    'Name':'Ade',\n",
    "    'Gender':'Male',\n",
    "    'Age':50,\n",
    "    'Height':1.90,\n",
    "    'Weight':78\n",
    "}\n",
    "print(records['Age'])"
   ]
  },
  {
   "cell_type": "code",
   "execution_count": 32,
   "id": "e89523ac",
   "metadata": {},
   "outputs": [
    {
     "name": "stdout",
     "output_type": "stream",
     "text": [
      "dict_keys(['Name', 'Gender', 'Age', 'Height', 'Weight'])\n"
     ]
    }
   ],
   "source": [
    "print(records.keys())"
   ]
  },
  {
   "cell_type": "code",
   "execution_count": 33,
   "id": "42c7288f",
   "metadata": {},
   "outputs": [
    {
     "name": "stdout",
     "output_type": "stream",
     "text": [
      "dict_values(['Ade', 'Male', 50, 1.9, 78])\n"
     ]
    }
   ],
   "source": [
    "print(records.values())"
   ]
  },
  {
   "cell_type": "code",
   "execution_count": 34,
   "id": "7548852c",
   "metadata": {},
   "outputs": [
    {
     "name": "stdout",
     "output_type": "stream",
     "text": [
      "dict_items([('Name', 'Ade'), ('Gender', 'Male'), ('Age', 50), ('Height', 1.9), ('Weight', 78)])\n"
     ]
    }
   ],
   "source": [
    "print(records.items())"
   ]
  },
  {
   "cell_type": "code",
   "execution_count": 35,
   "id": "aa0fba56",
   "metadata": {},
   "outputs": [
    {
     "name": "stdout",
     "output_type": "stream",
     "text": [
      "{'Name': 'Ade', 'Gender': 'Male', 'Age': 50, 'Height': 1.9, 'Weight': 78, 'BMI': 28.5}\n"
     ]
    }
   ],
   "source": [
    "records['BMI'] = 28.5\n",
    "print(records)"
   ]
  },
  {
   "cell_type": "code",
   "execution_count": 36,
   "id": "016b1ade",
   "metadata": {},
   "outputs": [
    {
     "name": "stdout",
     "output_type": "stream",
     "text": [
      "{'Name': 'Ade', 'Gender': 'Male', 'Age': 50, 'Height': 1.95, 'Weight': 78, 'BMI': 28.5}\n"
     ]
    }
   ],
   "source": [
    "r = {'Height':1.95}\n",
    "records.update(r)\n",
    "print(records)"
   ]
  },
  {
   "cell_type": "code",
   "execution_count": 37,
   "id": "481cccbb",
   "metadata": {},
   "outputs": [
    {
     "name": "stdout",
     "output_type": "stream",
     "text": [
      "{'Name': 'Ade', 'Gender': 'Male', 'Age': 50, 'Height': 1.95, 'Weight': 78}\n"
     ]
    }
   ],
   "source": [
    "records.popitem()\n",
    "print(records)"
   ]
  },
  {
   "cell_type": "code",
   "execution_count": 38,
   "id": "7163aa61",
   "metadata": {},
   "outputs": [
    {
     "name": "stdout",
     "output_type": "stream",
     "text": [
      "{'Name': 'Ade', 'Gender': 'Male', 'Age': 50, 'Weight': 78}\n"
     ]
    }
   ],
   "source": [
    "records.pop('Height')\n",
    "print(records)"
   ]
  },
  {
   "cell_type": "code",
   "execution_count": 2,
   "id": "8574294d",
   "metadata": {},
   "outputs": [
    {
     "name": "stdout",
     "output_type": "stream",
     "text": [
      "Faith\n",
      "50\n"
     ]
    }
   ],
   "source": [
    "details ={  \n",
    "      'Name':['Job','Faith','Peace'],\n",
    "      'Age':[45,47,50]\n",
    "}      \n",
    "print(details['Name'][1])\n",
    "print(details['Age'][2])"
   ]
  },
  {
   "cell_type": "code",
   "execution_count": null,
   "id": "1bed884e",
   "metadata": {},
   "outputs": [],
   "source": []
  }
 ],
 "metadata": {
  "kernelspec": {
   "display_name": "Python 3 (ipykernel)",
   "language": "python",
   "name": "python3"
  },
  "language_info": {
   "codemirror_mode": {
    "name": "ipython",
    "version": 3
   },
   "file_extension": ".py",
   "mimetype": "text/x-python",
   "name": "python",
   "nbconvert_exporter": "python",
   "pygments_lexer": "ipython3",
   "version": "3.9.12"
  }
 },
 "nbformat": 4,
 "nbformat_minor": 5
}
