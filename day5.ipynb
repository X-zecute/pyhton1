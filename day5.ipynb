{
 "cells": [
  {
   "cell_type": "markdown",
   "id": "38555870",
   "metadata": {},
   "source": [
    "# LOOP"
   ]
  },
  {
   "cell_type": "code",
   "execution_count": 1,
   "id": "f26d77b4",
   "metadata": {},
   "outputs": [
    {
     "name": "stdout",
     "output_type": "stream",
     "text": [
      "JJJ:::AAA:::VVV:::AAA:::"
     ]
    }
   ],
   "source": [
    "course = 'JAVA'\n",
    "for i in course:\n",
    "    print(i * 3, end=':::')"
   ]
  },
  {
   "cell_type": "code",
   "execution_count": 2,
   "id": "55c7f166",
   "metadata": {},
   "outputs": [
    {
     "name": "stdout",
     "output_type": "stream",
     "text": [
      "Hello Dr Ade this is a reminder of our meeting by 5pm\n",
      "Hello Dr Hope this is a reminder of our meeting by 5pm\n",
      "Hello Mr kunle this is a reminder of our meeting by 5pm\n"
     ]
    }
   ],
   "source": [
    "names = ['Dr Ade','Dr Hope','Mr kunle']\n",
    "for name in names:\n",
    "    print(f'Hello {name} this is a reminder of our meeting by 5pm')"
   ]
  },
  {
   "cell_type": "code",
   "execution_count": null,
   "id": "86f51565",
   "metadata": {},
   "outputs": [],
   "source": [
    "import math \n",
    "usernum = int(input('please provide a number:'))\n",
    "counter =1\n",
    "while usernum != 0:\n",
    "    print(f'The sqrt of {usernum} is {math.sqrt(usernum)}')\n",
    "    usernum = int(input('please provide a number:'))\n",
    "    counter = counter + 1"
   ]
  },
  {
   "cell_type": "code",
   "execution_count": null,
   "id": "e461eaf7",
   "metadata": {},
   "outputs": [],
   "source": [
    "bankrecords = {\n",
    "\n",
    "    '25256':['Ade Mary','Female',45000],\n",
    "\n",
    "    '30358':['Samule Ania','Male',78000.59],\n",
    "\n",
    "    '45412':['Jonah Lawal','Male',15000],\n",
    "\n",
    "    '58966':['Uju Fauthg','Female',150000],\n",
    "\n",
    "    '74589':['Jame Mary','Female',25000]\n",
    "\n",
    "}\n",
    "\n",
    "counter = 1\n",
    "\n",
    "x = input('y as yes to perform operation n as no')\n",
    "\n",
    "while x == 'y':\n",
    "\n",
    "    userpassword = input('Please enter your password')\n",
    "\n",
    "    operation  = int(input('Pick an operation 1 to display details,2 to transfer, 3 to withdraw, 4 to deposit'))\n",
    "\n",
    "    if operation == 1:\n",
    "\n",
    "        for key in bankrecords:\n",
    "\n",
    "            if userpassword == key:\n",
    "\n",
    "                print(f'''NAME:{bankrecords[userpassword][0]}\n",
    "\n",
    "GENDER:{bankrecords[userpassword][1]}\n",
    "\n",
    "BALANCE:{bankrecords[userpassword][-1]}\n",
    "\n",
    "    ''')\n",
    "\n",
    "    elif operation == 2:\n",
    "\n",
    "        for key in bankrecords:\n",
    "\n",
    "            if userpassword == key:\n",
    "\n",
    "                print(f'Avaliable Balance is {bankrecords[userpassword][-1]}')\n",
    "\n",
    "                amount = float(input('Please provide amount to transfer'))\n",
    "\n",
    "                destination = input( 'Provide destination account number')\n",
    "\n",
    "                bankrecords[userpassword][-1] = bankrecords[userpassword][-1] - amount\n",
    "\n",
    "                print(f'Transfer Succesful, new balance is {bankrecords[userpassword][-1]}')\n",
    "\n",
    "    elif operation == 3:\n",
    "\n",
    "        for key in bankrecords:\n",
    "\n",
    "            if userpassword == key:\n",
    "\n",
    "                print(f'Avaliable Balance is {bankrecords[userpassword][-1]}')\n",
    "\n",
    "                bankrecords[userpassword][-1] = bankrecords[userpassword][-1] - amount\n",
    "\n",
    "                print(f'Transfer Succesful, new balance is {bankrecords[userpassword][-1]}')\n",
    "\n",
    "    elif operation == 4:\n",
    "\n",
    "        for key in bankrecords:\n",
    "\n",
    "            if userpassword == key:\n",
    "\n",
    "                print(f'Avaliable Balance is {bankrecords[userpassword][-1]}')\n",
    "\n",
    "                amount = float(input('Please provide amount to Deposit'))\n",
    "\n",
    "                destination = input( 'Provide destination account number')\n",
    "\n",
    "                bankrecords[userpassword][-1] =bankrecords[userpassword][-1] + amount\n",
    "\n",
    "                print(f'Transcation Succesful, new balance is {bankrecords[userpassword][-1]}')\n",
    "\n",
    "    x = input('y as yes to perform operation n as no')\n",
    "\n",
    "    counter = counter + 1\n",
    "\n"
   ]
  },
  {
   "cell_type": "code",
   "execution_count": null,
   "id": "c1e8a2a5",
   "metadata": {},
   "outputs": [],
   "source": [
    "\n"
   ]
  },
  {
   "cell_type": "code",
   "execution_count": null,
   "id": "b5c82031",
   "metadata": {},
   "outputs": [],
   "source": []
  }
 ],
 "metadata": {
  "kernelspec": {
   "display_name": "Python 3 (ipykernel)",
   "language": "python",
   "name": "python3"
  },
  "language_info": {
   "codemirror_mode": {
    "name": "ipython",
    "version": 3
   },
   "file_extension": ".py",
   "mimetype": "text/x-python",
   "name": "python",
   "nbconvert_exporter": "python",
   "pygments_lexer": "ipython3",
   "version": "3.9.12"
  }
 },
 "nbformat": 4,
 "nbformat_minor": 5
}
