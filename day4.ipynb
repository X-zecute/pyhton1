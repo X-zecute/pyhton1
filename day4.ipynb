{
 "cells": [
  {
   "cell_type": "code",
   "execution_count": 1,
   "id": "4ce34018",
   "metadata": {},
   "outputs": [
    {
     "name": "stdout",
     "output_type": "stream",
     "text": [
      "['__doc__', '__loader__', '__name__', '__package__', '__spec__', 'acos', 'acosh', 'asin', 'asinh', 'atan', 'atan2', 'atanh', 'ceil', 'comb', 'copysign', 'cos', 'cosh', 'degrees', 'dist', 'e', 'erf', 'erfc', 'exp', 'expm1', 'fabs', 'factorial', 'floor', 'fmod', 'frexp', 'fsum', 'gamma', 'gcd', 'hypot', 'inf', 'isclose', 'isfinite', 'isinf', 'isnan', 'isqrt', 'lcm', 'ldexp', 'lgamma', 'log', 'log10', 'log1p', 'log2', 'modf', 'nan', 'nextafter', 'perm', 'pi', 'pow', 'prod', 'radians', 'remainder', 'sin', 'sinh', 'sqrt', 'tan', 'tanh', 'tau', 'trunc', 'ulp']\n"
     ]
    }
   ],
   "source": [
    "import math\n",
    "print(dir(math))"
   ]
  },
  {
   "cell_type": "code",
   "execution_count": 2,
   "id": "f63bbc23",
   "metadata": {},
   "outputs": [
    {
     "name": "stdout",
     "output_type": "stream",
     "text": [
      "16\n"
     ]
    }
   ],
   "source": [
    "num = 15.58\n",
    "print(math.ceil(num))#ceil will round up and return an integer value"
   ]
  },
  {
   "cell_type": "code",
   "execution_count": 3,
   "id": "d53b31c9",
   "metadata": {},
   "outputs": [
    {
     "name": "stdout",
     "output_type": "stream",
     "text": [
      "15\n"
     ]
    }
   ],
   "source": [
    "print(math.floor(num))#floor will round off and return an integer value"
   ]
  },
  {
   "cell_type": "code",
   "execution_count": 4,
   "id": "7e3b931f",
   "metadata": {},
   "outputs": [
    {
     "name": "stdout",
     "output_type": "stream",
     "text": [
      "['Counter', 'Decimal', 'Fraction', 'NormalDist', 'StatisticsError', '__all__', '__builtins__', '__cached__', '__doc__', '__file__', '__loader__', '__name__', '__package__', '__spec__', '_coerce', '_convert', '_exact_ratio', '_fail_neg', '_find_lteq', '_find_rteq', '_isfinite', '_normal_dist_inv_cdf', '_ss', '_sum', 'bisect_left', 'bisect_right', 'erf', 'exp', 'fabs', 'fmean', 'fsum', 'geometric_mean', 'groupby', 'harmonic_mean', 'hypot', 'itemgetter', 'log', 'math', 'mean', 'median', 'median_grouped', 'median_high', 'median_low', 'mode', 'multimode', 'numbers', 'pstdev', 'pvariance', 'quantiles', 'random', 'sqrt', 'stdev', 'tau', 'variance']\n"
     ]
    }
   ],
   "source": [
    "import statistics as stat\n",
    "print(dir(stat))"
   ]
  },
  {
   "cell_type": "code",
   "execution_count": 5,
   "id": "3d271f1e",
   "metadata": {},
   "outputs": [
    {
     "name": "stdout",
     "output_type": "stream",
     "text": [
      "78.78\n"
     ]
    }
   ],
   "source": [
    "score = [85,90,82,80,90,65,60,78,79]\n",
    "print(round(stat.mean(score),2))"
   ]
  },
  {
   "cell_type": "code",
   "execution_count": 6,
   "id": "eb5b3ad0",
   "metadata": {},
   "outputs": [
    {
     "name": "stdout",
     "output_type": "stream",
     "text": [
      "80\n"
     ]
    }
   ],
   "source": [
    "print(stat.median(score))"
   ]
  },
  {
   "cell_type": "code",
   "execution_count": 7,
   "id": "6b1c296a",
   "metadata": {},
   "outputs": [
    {
     "name": "stdout",
     "output_type": "stream",
     "text": [
      "['BPF', 'LOG4', 'NV_MAGICCONST', 'RECIP_BPF', 'Random', 'SG_MAGICCONST', 'SystemRandom', 'TWOPI', '_Sequence', '_Set', '__all__', '__builtins__', '__cached__', '__doc__', '__file__', '__loader__', '__name__', '__package__', '__spec__', '_accumulate', '_acos', '_bisect', '_ceil', '_cos', '_e', '_exp', '_floor', '_inst', '_log', '_os', '_pi', '_random', '_repeat', '_sha512', '_sin', '_sqrt', '_test', '_test_generator', '_urandom', '_warn', 'betavariate', 'choice', 'choices', 'expovariate', 'gammavariate', 'gauss', 'getrandbits', 'getstate', 'lognormvariate', 'normalvariate', 'paretovariate', 'randbytes', 'randint', 'random', 'randrange', 'sample', 'seed', 'setstate', 'shuffle', 'triangular', 'uniform', 'vonmisesvariate', 'weibullvariate']\n"
     ]
    }
   ],
   "source": [
    "import random\n",
    "print(dir(random))"
   ]
  },
  {
   "cell_type": "code",
   "execution_count": 12,
   "id": "42a2bc3d",
   "metadata": {},
   "outputs": [
    {
     "data": {
      "text/plain": [
       "60"
      ]
     },
     "execution_count": 12,
     "metadata": {},
     "output_type": "execute_result"
    }
   ],
   "source": [
    "random.randint(14,85)"
   ]
  },
  {
   "cell_type": "code",
   "execution_count": 13,
   "id": "2e8af20b",
   "metadata": {},
   "outputs": [
    {
     "data": {
      "text/plain": [
       "80"
      ]
     },
     "execution_count": 13,
     "metadata": {},
     "output_type": "execute_result"
    }
   ],
   "source": [
    "random.choice(score)"
   ]
  },
  {
   "cell_type": "code",
   "execution_count": 16,
   "id": "4b297d00",
   "metadata": {},
   "outputs": [
    {
     "name": "stdout",
     "output_type": "stream",
     "text": [
      "please provide your age14\n",
      "Sorry our academy only accept 18 years upward\n"
     ]
    }
   ],
   "source": [
    "age = int(input('please provide your age'))\n",
    "if age <=17:\n",
    "    print('Sorry our academy only accept 18 years upward')"
   ]
  },
  {
   "cell_type": "code",
   "execution_count": 18,
   "id": "fe26649f",
   "metadata": {},
   "outputs": [
    {
     "name": "stdout",
     "output_type": "stream",
     "text": [
      "please provide your age:25\n",
      "congratulations you are moving to the next stage\n"
     ]
    }
   ],
   "source": [
    "age = int(input('please provide your age:'))\n",
    "if age <=17:\n",
    "    print('sorry our academy omly accept 18 years upward')\n",
    "else:\n",
    "    print('congratulations you are moving to the next stage')\n",
    "    "
   ]
  },
  {
   "cell_type": "code",
   "execution_count": 20,
   "id": "cf62fb30",
   "metadata": {},
   "outputs": [
    {
     "name": "stdout",
     "output_type": "stream",
     "text": [
      "please provide a number:-4\n",
      "negative or zero outcome\n"
     ]
    }
   ],
   "source": [
    "num = int(input('please provide a number:'))\n",
    "if num > 0:\n",
    "    print('positive outcome')\n",
    "else:\n",
    "    print('negative or zero outcome')"
   ]
  },
  {
   "cell_type": "code",
   "execution_count": 23,
   "id": "eafe79ce",
   "metadata": {},
   "outputs": [
    {
     "name": "stdout",
     "output_type": "stream",
     "text": [
      "please provide a number:4\n",
      "positive outcome\n"
     ]
    }
   ],
   "source": [
    "num = int(input('please provide a number:'))\n",
    "if num > 0:\n",
    "    print('positive outcome')\n",
    "else:\n",
    "    if num < 0:\n",
    "        print('negative outcome')\n",
    "    else:\n",
    "        print('outcome is zero')\n"
   ]
  },
  {
   "cell_type": "code",
   "execution_count": 25,
   "id": "c62a35d0",
   "metadata": {},
   "outputs": [
    {
     "name": "stdout",
     "output_type": "stream",
     "text": [
      "ITEM WEIGHT IN KG:10\n",
      "ITEM CONDITIONnon-fragile\n",
      "your total shipping fee is 750.0\n"
     ]
    }
   ],
   "source": [
    "weight = float(input('ITEM WEIGHT IN KG:'))\n",
    "condition = input('ITEM CONDITION')\n",
    "if weight <=10 and condition =='fragile':\n",
    "    amount = weight * 150\n",
    "    print(f'your total shipping fee is {amount}')\n",
    "elif weight <= 10 and condition == 'non-fragile':\n",
    "    amount = weight * 75\n",
    "    print(f'your total shipping fee is {amount}')\n",
    "elif weight > 10 and condition == 'non-fragile':\n",
    "    amount =  weight * 150\n",
    "    print(f'your total shipping fee is {amount}')\n",
    "elif weight >10 and condition == 'fragile':\n",
    "    amount = weight * 300\n",
    "    print(f'your total shipping fee is {amount}')"
   ]
  },
  {
   "cell_type": "code",
   "execution_count": 27,
   "id": "02108d62",
   "metadata": {},
   "outputs": [
    {
     "name": "stdout",
     "output_type": "stream",
     "text": [
      "ITEM WEIGHT IN KG:10\n",
      "ITEM CONDITIONfragile\n",
      "your total shipping fee is 1500.0\n"
     ]
    }
   ],
   "source": [
    "weight = float(input('ITEM WEIGHT IN KG:'))\n",
    "condition = input('ITEM CONDITION')\n",
    "if weight <=10 and condition =='fragile':\n",
    "    amount = weight * 150\n",
    "    print(f'your total shipping fee is {amount}')\n",
    "elif weight <= 10 and condition == 'non-fragile':\n",
    "    amount = weight * 75\n",
    "    print(f'your total shipping fee is {amount}')\n",
    "elif weight > 10 and condition == 'non-fragile':\n",
    "    amount =  weight * 150\n",
    "    print(f'your total shipping fee is {amount}')\n",
    "else:\n",
    "    amount = weight * 300\n",
    "    print(f'your total shipping fee is {amount}')"
   ]
  },
  {
   "cell_type": "code",
   "execution_count": null,
   "id": "3e79978a",
   "metadata": {},
   "outputs": [],
   "source": []
  }
 ],
 "metadata": {
  "kernelspec": {
   "display_name": "Python 3 (ipykernel)",
   "language": "python",
   "name": "python3"
  },
  "language_info": {
   "codemirror_mode": {
    "name": "ipython",
    "version": 3
   },
   "file_extension": ".py",
   "mimetype": "text/x-python",
   "name": "python",
   "nbconvert_exporter": "python",
   "pygments_lexer": "ipython3",
   "version": "3.9.12"
  }
 },
 "nbformat": 4,
 "nbformat_minor": 5
}
