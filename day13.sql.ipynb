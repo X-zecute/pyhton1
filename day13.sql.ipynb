{
 "cells": [
  {
   "cell_type": "code",
   "execution_count": 1,
   "id": "d26d045b",
   "metadata": {},
   "outputs": [],
   "source": [
    "import pymysql"
   ]
  },
  {
   "cell_type": "code",
   "execution_count": 2,
   "id": "b6250a12",
   "metadata": {},
   "outputs": [],
   "source": [
    "mydb = pymysql.connect(\n",
    "    host = 'localhost',\n",
    "    user = 'root',\n",
    "    password = 'xzecute08'\n",
    ")\n",
    "mycursor = mydb.cursor()"
   ]
  },
  {
   "cell_type": "code",
   "execution_count": 4,
   "id": "f160d5cb",
   "metadata": {},
   "outputs": [
    {
     "name": "stdout",
     "output_type": "stream",
     "text": [
      "('information_schema',)\n",
      "('mysql',)\n",
      "('nbamanagementsystem',)\n",
      "('performance_schema',)\n",
      "('sakila',)\n",
      "('sys',)\n",
      "('world',)\n"
     ]
    }
   ],
   "source": [
    "mycursor.execute('show databases')\n",
    "for x in mycursor:\n",
    "    print(x)"
   ]
  },
  {
   "cell_type": "code",
   "execution_count": 5,
   "id": "b0c0462b",
   "metadata": {},
   "outputs": [],
   "source": [
    "mydb = pymysql.connect(\n",
    "    host = 'localhost',\n",
    "    user = 'root',\n",
    "    password = 'xzecute08',\n",
    "    database = 'nbamanagementsystem'\n",
    ")\n",
    "mycursor = mydb.cursor()"
   ]
  },
  {
   "cell_type": "code",
   "execution_count": 7,
   "id": "5c09b27e",
   "metadata": {},
   "outputs": [],
   "source": [
    "sql = 'insert into nbaplayersdetails(playerid, playername, playerposition) values (%s,%s,%s)'\n",
    "val = [(8,'Micheal best','Attacker'),\n",
    "(9,'Gardner bole','Defender'),\n",
    "(10,'Lewis rice','Stopper'),\n",
    "(11,'Rat cook','Attacker'),\n",
    "(12,'John ironman','Stopper'),\n",
    "(13,'Alfred base','Defender'),\n",
    "(14,'Pope gardner','Midfielder'),\n",
    "(15,'Brown jolly','Attacker')]\n",
    "mycursor.executemany(sql,val)\n",
    "mydb.commit()"
   ]
  },
  {
   "cell_type": "code",
   "execution_count": 8,
   "id": "2094d689",
   "metadata": {},
   "outputs": [
    {
     "name": "stdout",
     "output_type": "stream",
     "text": [
      "(1, 'Michael jordan', 'Attacker')\n",
      "(2, 'Harry bole', 'Defender')\n",
      "(3, 'Lewis john', 'Stopper')\n",
      "(4, 'Rat hollwell', 'Attacker')\n",
      "(5, 'John batting', 'Stopper')\n",
      "(6, 'Alfred james', 'Defender')\n",
      "(7, 'James gardner', 'Midfielder')\n",
      "(8, 'Micheal best', 'Attacker')\n",
      "(9, 'Gardner bole', 'Defender')\n",
      "(10, 'Lewis rice', 'Stopper')\n",
      "(11, 'Rat cook', 'Attacker')\n",
      "(12, 'John ironman', 'Stopper')\n",
      "(13, 'Alfred base', 'Defender')\n",
      "(14, 'Pope gardner', 'Midfielder')\n",
      "(15, 'Brown jolly', 'Attacker')\n"
     ]
    }
   ],
   "source": [
    "mycursor.execute(\"select * from nbaplayersdetails\")\n",
    "for x in mycursor:\n",
    "    print(x)"
   ]
  },
  {
   "cell_type": "code",
   "execution_count": null,
   "id": "510dbee3",
   "metadata": {},
   "outputs": [],
   "source": []
  }
 ],
 "metadata": {
  "kernelspec": {
   "display_name": "Python 3 (ipykernel)",
   "language": "python",
   "name": "python3"
  },
  "language_info": {
   "codemirror_mode": {
    "name": "ipython",
    "version": 3
   },
   "file_extension": ".py",
   "mimetype": "text/x-python",
   "name": "python",
   "nbconvert_exporter": "python",
   "pygments_lexer": "ipython3",
   "version": "3.9.12"
  }
 },
 "nbformat": 4,
 "nbformat_minor": 5
}
