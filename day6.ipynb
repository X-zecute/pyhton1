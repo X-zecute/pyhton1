{
 "cells": [
  {
   "cell_type": "markdown",
   "id": "a919df57",
   "metadata": {},
   "source": [
    "# functions"
   ]
  },
  {
   "cell_type": "code",
   "execution_count": 2,
   "id": "83fef513",
   "metadata": {},
   "outputs": [
    {
     "name": "stdout",
     "output_type": "stream",
     "text": [
      "The output of n1 + n2 15\n"
     ]
    }
   ],
   "source": [
    "def add(): # A FUNCTION WITHOUT A PARAMETER\n",
    "    n1 = 5 \n",
    "    n2 = 10\n",
    "    print(f'The output of n1 + n2 {n1 + n2}')\n",
    "add()"
   ]
  },
  {
   "cell_type": "code",
   "execution_count": 3,
   "id": "dadb4bbe",
   "metadata": {},
   "outputs": [
    {
     "name": "stdout",
     "output_type": "stream",
     "text": [
      "The output of n1 + n2 15\n"
     ]
    }
   ],
   "source": [
    "add()"
   ]
  },
  {
   "cell_type": "code",
   "execution_count": 6,
   "id": "5ef79444",
   "metadata": {},
   "outputs": [
    {
     "name": "stdout",
     "output_type": "stream",
     "text": [
      "the output of n1 + n2 is 135\n"
     ]
    }
   ],
   "source": [
    "def addition(n1,n2):\n",
    "    print(f'the output of n1 + n2 is {n1 + n2}')\n",
    "addition(55,80)"
   ]
  },
  {
   "cell_type": "code",
   "execution_count": 11,
   "id": "7fa99405",
   "metadata": {},
   "outputs": [
    {
     "name": "stdout",
     "output_type": "stream",
     "text": [
      "SHIPPING DETAILS\n",
      "DESTINATION::kano\n",
      "ITEM CONDITION::non-fragile\n",
      "ITEM WEIGHT::10\n",
      "    \n",
      "your shipping fee is 2500\n"
     ]
    }
   ],
   "source": [
    "def shippingsystem(location,condition,weight = 10):\n",
    "    print(f'''SHIPPING DETAILS\n",
    "DESTINATION::{location}\n",
    "ITEM CONDITION::{condition}\n",
    "ITEM WEIGHT::{weight}\n",
    "    ''')\n",
    "    if weight <= 10 and condition == 'fragile':\n",
    "        print(f'your shipping fee is {weight * 500}')\n",
    "    elif weight <= 10 and condition == 'non-fragile':\n",
    "        print(f'your shipping fee is {weight * 250}')\n",
    "    elif weight > 10 and condition == 'fragile':\n",
    "        print(f'your shipping fee is {weight * 1000}')\n",
    "    elif weight > 10 and condition == 'non-fragile':\n",
    "        print(f'your shipping fee is {weight * 500}')\n",
    "shippingsystem('kano','non-fragile')\n",
    "        "
   ]
  },
  {
   "cell_type": "code",
   "execution_count": 12,
   "id": "fcdddac9",
   "metadata": {},
   "outputs": [
    {
     "name": "stdout",
     "output_type": "stream",
     "text": [
      "SHIPPING DETAILS\n",
      "DESTINATION::abuja\n",
      "ITEM CONDITION::fragile\n",
      "ITEM WEIGHT::80\n",
      "    \n",
      "your shipping fee is 80000\n"
     ]
    }
   ],
   "source": [
    "shippingsystem('abuja','fragile',80)"
   ]
  },
  {
   "cell_type": "code",
   "execution_count": 14,
   "id": "9ab4692d",
   "metadata": {},
   "outputs": [
    {
     "name": "stdout",
     "output_type": "stream",
     "text": [
      "<class 'tuple'>\n",
      "the average score of the following numbers (12, 58) is 35\n"
     ]
    }
   ],
   "source": [
    "def averagescore(*numbers):\n",
    "    print(type(numbers))\n",
    "    import statistics as stat\n",
    "    print(f'the average score of the following numbers {numbers} is {stat.mean(numbers)}')\n",
    "averagescore(12,58)"
   ]
  },
  {
   "cell_type": "code",
   "execution_count": 15,
   "id": "92aabb96",
   "metadata": {},
   "outputs": [
    {
     "name": "stdout",
     "output_type": "stream",
     "text": [
      "<class 'tuple'>\n",
      "the average score of the following numbers (85, 74, 77, 73, 94, 89, 62, 46, 32, 15, 69, 81, 49, 91, 59, 37, 69, 22) is 62.44444444444444\n"
     ]
    }
   ],
   "source": [
    "averagescore(85,74,77,73,94,89,62,46,32,15,69,81,49,91,59,37,69,22)"
   ]
  },
  {
   "cell_type": "code",
   "execution_count": 16,
   "id": "03493caf",
   "metadata": {},
   "outputs": [],
   "source": [
    "import random\n",
    "outcome = []\n",
    "counter = 1\n",
    "while counter <= 50:\n",
    "    num = random.randint(60,85)\n",
    "    outcome.append(num)\n",
    "    counter +=1"
   ]
  },
  {
   "cell_type": "code",
   "execution_count": 20,
   "id": "6b2553ac",
   "metadata": {},
   "outputs": [
    {
     "name": "stdout",
     "output_type": "stream",
     "text": [
      "50\n"
     ]
    }
   ],
   "source": [
    "print(len(outcome))"
   ]
  },
  {
   "cell_type": "code",
   "execution_count": 21,
   "id": "56afb115",
   "metadata": {},
   "outputs": [
    {
     "name": "stdout",
     "output_type": "stream",
     "text": [
      "[74, 81, 77, 73, 73, 75, 70, 63, 78, 70, 81, 78, 85, 75, 77, 76, 75, 70, 61, 66, 68, 60, 77, 74, 79, 68, 68, 64, 68, 83, 74, 81, 73, 74, 83, 77, 85, 64, 84, 72, 64, 66, 82, 67, 61, 63, 85, 73, 65, 83]\n"
     ]
    }
   ],
   "source": [
    "print(outcome)"
   ]
  },
  {
   "cell_type": "code",
   "execution_count": 22,
   "id": "ee0f41e4",
   "metadata": {},
   "outputs": [
    {
     "name": "stdout",
     "output_type": "stream",
     "text": [
      "<class 'tuple'>\n",
      "the average score of the following numbers (74, 81, 77, 73, 73, 75, 70, 63, 78, 70, 81, 78, 85, 75, 77, 76, 75, 70, 61, 66, 68, 60, 77, 74, 79, 68, 68, 64, 68, 83, 74, 81, 73, 74, 83, 77, 85, 64, 84, 72, 64, 66, 82, 67, 61, 63, 85, 73, 65, 83) is 73.26\n"
     ]
    }
   ],
   "source": [
    "averagescore(*outcome)"
   ]
  },
  {
   "cell_type": "code",
   "execution_count": 25,
   "id": "2d83afb7",
   "metadata": {},
   "outputs": [
    {
     "name": "stdout",
     "output_type": "stream",
     "text": [
      "<class 'dict'>\n",
      "Name ::: Paul\n",
      "Gender ::: Male\n",
      "Age ::: 15\n",
      "Height ::: 1.98\n"
     ]
    }
   ],
   "source": [
    "def records(**details):\n",
    "    print(type(details))\n",
    "    for key,value in details.items():\n",
    "        print(f'{key} ::: {value}')\n",
    "records(Name = 'Paul',Gender = 'Male', Age = 15,Height = 1.98)"
   ]
  },
  {
   "cell_type": "code",
   "execution_count": 28,
   "id": "bf5d4768",
   "metadata": {},
   "outputs": [],
   "source": [
    "paddy = {\n",
    "    'Child1':['Job','Male',30],\n",
    "    'Child2':['Mary','Female',26],\n",
    "    'Child3':['Hope','Female',22]\n",
    "}"
   ]
  },
  {
   "cell_type": "code",
   "execution_count": 30,
   "id": "76cc2e81",
   "metadata": {},
   "outputs": [
    {
     "name": "stdout",
     "output_type": "stream",
     "text": [
      "<class 'dict'>\n",
      "Child1 ::: ['Job', 'Male', 30]\n",
      "Child2 ::: ['Mary', 'Female', 26]\n",
      "Child3 ::: ['Hope', 'Female', 22]\n"
     ]
    }
   ],
   "source": [
    "records(**paddy)"
   ]
  },
  {
   "cell_type": "code",
   "execution_count": 32,
   "id": "7d6d7919",
   "metadata": {},
   "outputs": [
    {
     "name": "stdout",
     "output_type": "stream",
     "text": [
      "employee gender:Male\n",
      "employee age:33\n",
      "employee marital status:Married\n",
      "congratulations you have been posted to DELTA\n"
     ]
    }
   ],
   "source": [
    "def postingsystem():\n",
    "    location = ['OYO', 'DELTA', 'KANO']\n",
    "    gender = input('employee gender:')\n",
    "    age = float(input('employee age:'))\n",
    "    maritalstatus = input('employee marital status:')\n",
    "    import random\n",
    "    if gender == 'Male' and age >=20 and age <= 40:\n",
    "        print(f'congratulations you have been posted to {random.choice(location)}')\n",
    "    elif gender == 'Female' and maritalstatus == 'Married':\n",
    "        print('you are retained at main office')\n",
    "    elif gender == 'Female' and maritalstatus == 'Single' and age >= 20 and age <= 40:\n",
    "        print(f'congratulations you have been posted to {random.choice(location)}')\n",
    "    elif age > 40:\n",
    "        print('you are retained at main office')\n",
    "postingsystem()\n"
   ]
  },
  {
   "cell_type": "code",
   "execution_count": null,
   "id": "f91748cb",
   "metadata": {},
   "outputs": [],
   "source": []
  }
 ],
 "metadata": {
  "kernelspec": {
   "display_name": "Python 3 (ipykernel)",
   "language": "python",
   "name": "python3"
  },
  "language_info": {
   "codemirror_mode": {
    "name": "ipython",
    "version": 3
   },
   "file_extension": ".py",
   "mimetype": "text/x-python",
   "name": "python",
   "nbconvert_exporter": "python",
   "pygments_lexer": "ipython3",
   "version": "3.9.12"
  }
 },
 "nbformat": 4,
 "nbformat_minor": 5
}
